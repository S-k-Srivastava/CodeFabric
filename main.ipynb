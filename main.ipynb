{
  "cells": [
    {
      "cell_type": "markdown",
      "metadata": {},
      "source": [
        "### Imports"
      ]
    },
    {
      "cell_type": "code",
      "execution_count": null,
      "metadata": {},
      "outputs": [],
      "source": [
        "from codefabric.logging.logger import setup_logger\n",
        "from codefabric.graph.developer_agent import DeveloperAgent\n",
        "from codefabric.types.enums import Technologies\n",
        "from codefabric.types.models import Requirements"
      ]
    },
    {
      "cell_type": "markdown",
      "metadata": {},
      "source": [
        "### User Input"
      ]
    },
    {
      "cell_type": "code",
      "execution_count": null,
      "metadata": {},
      "outputs": [],
      "source": [
        "process_id = \"sk-portfolio\"\n",
        "project_description = \"\"\"\n",
        "Portfolio Project Description\n",
        "Overview\n",
        "I'm looking for a static single-page portfolio website built with NextJS, Tailwind CSS, and TypeScript. The base project structure is already set up - I need help with implementation of a highly modular, aesthetic, and professional design.\n",
        "Technical Requirements\n",
        "\n",
        "Frontend Only: Static single-page architecture with no backend\n",
        "Tech Stack: NextJS, Tailwind CSS, TypeScript\n",
        "Responsiveness: Fully responsive across all device sizes\n",
        "Modularity: Components should be well-organized and reusable\n",
        "\n",
        "Design Requirements\n",
        "\n",
        "Aesthetic: Clean, minimal, professional design\n",
        "Color Scheme: Cohesive, appealing professional color palette\n",
        "Typography: Consistent, readable font hierarchy\n",
        "Spacing: Proper consistent padding throughout sections\n",
        "Animations: Subtle, professional animations for enhanced user experience\n",
        "\n",
        "Sections to Include\n",
        "\n",
        "Landing Page: Eye-catching hero section with name, title, and brief introduction\n",
        "About Me: Professional summary and background\n",
        "Skills: Technical and professional competencies\n",
        "Projects: Showcase of notable work\n",
        "Contact Form: Simple form for visitor outreach\n",
        "Resume: Download button for resume/CV\n",
        "\n",
        "Project Section Details\n",
        "Each project should include:\n",
        "\n",
        "Project name\n",
        "Short description\n",
        "Technologies used\n",
        "Image (placeholder for now)\n",
        "Links to live site and/or repository\n",
        "\n",
        "Special Elements\n",
        "\n",
        "Replace all images with placeholder components that accept dimensions as props (I'll replace these later)\n",
        "Use sample data throughout the site\n",
        "Include smooth scroll between sections\n",
        "Add tasteful hover effects and transitions\n",
        "\n",
        "Notes\n",
        "\n",
        "Focus on component reusability and clean code\n",
        "Prioritize performance optimization\n",
        "Implement accessible design practices\n",
        "Ensure consistent styling across all sections,\n",
        "\n",
        "Themes:\n",
        "I want both themes dark and light mode.\n",
        "It Can be switched from Header.\n",
        "\n",
        "Basic Info:\n",
        "\n",
        "name - Saurav Kumar Srivastava\n",
        "AI Engineer,\n",
        "\n",
        "\n",
        "Note: The BASE Project is already setup using this command so u should create files accordingly : npx create-next-app@latest . --typescript --tailwind --eslint --src-dir --no-app --import-alias \"@/*\" --yes\n",
        "\"\"\""
      ]
    },
    {
      "cell_type": "code",
      "execution_count": null,
      "metadata": {},
      "outputs": [],
      "source": [
        "requirements=Requirements(\n",
        "    project_name=process_id,\n",
        "    project_description=project_description,\n",
        "    packages=[],\n",
        "    technology=Technologies.NEXTJS_TAILWIND_TYPESCRIPT.value,\n",
        ")"
      ]
    },
    {
      "cell_type": "markdown",
      "metadata": {},
      "source": [
        "### Setup Logger"
      ]
    },
    {
      "cell_type": "code",
      "execution_count": null,
      "metadata": {},
      "outputs": [],
      "source": [
        "setup_logger(process_id)"
      ]
    },
    {
      "cell_type": "markdown",
      "metadata": {},
      "source": [
        "### Initialize Developer Agent"
      ]
    },
    {
      "cell_type": "code",
      "execution_count": null,
      "metadata": {},
      "outputs": [],
      "source": [
        "dev_agent = DeveloperAgent(\n",
        "    process_id=process_id,\n",
        "    requirements=requirements,\n",
        ")"
      ]
    },
    {
      "cell_type": "markdown",
      "metadata": {},
      "source": [
        "### Graph"
      ]
    },
    {
      "cell_type": "code",
      "execution_count": null,
      "metadata": {},
      "outputs": [],
      "source": [
        "from IPython.display import Image, display\n",
        "display(Image(dev_agent.graph.get_graph().draw_mermaid_png()))"
      ]
    },
    {
      "cell_type": "markdown",
      "metadata": {},
      "source": [
        "### Run Agent"
      ]
    },
    {
      "cell_type": "code",
      "execution_count": null,
      "metadata": {},
      "outputs": [],
      "source": [
        "final_state = dev_agent.run()"
      ]
    },
    {
      "cell_type": "code",
      "execution_count": null,
      "metadata": {},
      "outputs": [],
      "source": [
        "from codefabric.graph.developer_agent import DeveloperState\n",
        "final_state = DeveloperState(**final_state)"
      ]
    },
    {
      "cell_type": "code",
      "execution_count": null,
      "metadata": {},
      "outputs": [],
      "source": [
        "print(final_state)"
      ]
    },
    {
      "cell_type": "code",
      "execution_count": null,
      "metadata": {},
      "outputs": [],
      "source": []
    }
  ],
  "metadata": {
    "kernelspec": {
      "display_name": ".venv",
      "language": "python",
      "name": "python3"
    },
    "language_info": {
      "codemirror_mode": {
        "name": "ipython",
        "version": 3
      },
      "file_extension": ".py",
      "mimetype": "text/x-python",
      "name": "python",
      "nbconvert_exporter": "python",
      "pygments_lexer": "ipython3",
      "version": "3.12.3"
    }
  },
  "nbformat": 4,
  "nbformat_minor": 2
}
