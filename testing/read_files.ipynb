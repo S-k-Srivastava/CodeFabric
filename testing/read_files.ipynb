{
 "cells": [
  {
   "cell_type": "code",
   "execution_count": 4,
   "metadata": {},
   "outputs": [],
   "source": [
    "import os\n",
    "import json\n",
    "\n",
    "def list_files_recursive(directory, ignore_dirs=None):\n",
    "    if ignore_dirs is None:\n",
    "        ignore_dirs = []\n",
    "\n",
    "    files_info = []\n",
    "\n",
    "    for root, dirs, files in os.walk(directory):\n",
    "        # Modify dirs in-place to skip ignored directories\n",
    "        dirs[:] = [d for d in dirs if d not in ignore_dirs]\n",
    "\n",
    "        for file in files:\n",
    "            file_path = os.path.join(root, file)\n",
    "            files_info.append({\n",
    "                \"file_name\": file,\n",
    "                \"file_path\": file_path\n",
    "            })\n",
    "\n",
    "    return files_info"
   ]
  },
  {
   "cell_type": "code",
   "execution_count": null,
   "metadata": {},
   "outputs": [],
   "source": [
    "result = list_files_recursive(\"./../\",ignore_dirs=['.venv','db','logs','vector_db','outputs','.git','__pycache__'])\n",
    "print(json.dumps(result, indent=2))"
   ]
  },
  {
   "cell_type": "code",
   "execution_count": null,
   "metadata": {},
   "outputs": [],
   "source": []
  }
 ],
 "metadata": {
  "kernelspec": {
   "display_name": ".venv",
   "language": "python",
   "name": "python3"
  },
  "language_info": {
   "codemirror_mode": {
    "name": "ipython",
    "version": 3
   },
   "file_extension": ".py",
   "mimetype": "text/x-python",
   "name": "python",
   "nbconvert_exporter": "python",
   "pygments_lexer": "ipython3",
   "version": "3.12.3"
  }
 },
 "nbformat": 4,
 "nbformat_minor": 2
}
