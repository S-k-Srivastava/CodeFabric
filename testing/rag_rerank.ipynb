{
 "cells": [
  {
   "cell_type": "code",
   "execution_count": 1,
   "metadata": {},
   "outputs": [],
   "source": [
    "import os,sys\n",
    "sys.path.append(os.path.abspath(os.path.join(os.getcwd(), os.pardir)))"
   ]
  },
  {
   "cell_type": "code",
   "execution_count": null,
   "metadata": {},
   "outputs": [],
   "source": [
    "from modules.utils.ranking_based_retriever import RankingBasedRetriever"
   ]
  },
  {
   "cell_type": "code",
   "execution_count": 3,
   "metadata": {},
   "outputs": [],
   "source": [
    "rank_retriever = RankingBasedRetriever(\"id2\")"
   ]
  },
  {
   "cell_type": "code",
   "execution_count": 4,
   "metadata": {},
   "outputs": [],
   "source": [
    "import json\n",
    "with open('./../current_files.json','r') as f:\n",
    "    data = json.loads(f.read())"
   ]
  },
  {
   "cell_type": "code",
   "execution_count": null,
   "metadata": {},
   "outputs": [],
   "source": []
  },
  {
   "cell_type": "code",
   "execution_count": 5,
   "metadata": {},
   "outputs": [],
   "source": [
    "docs = []\n",
    "for d in data:\n",
    "    name = d['name']\n",
    "    path = d['path']\n",
    "    with open(f\"../outputs/leetcode-agent-any{path}\",'r') as f:\n",
    "        docs.append(f\"\"\"File name: {name}\\nFile path: {path}\\nFile content: \\n\\n```code{f.read()}```\n",
    "        \"\"\")"
   ]
  },
  {
   "cell_type": "code",
   "execution_count": null,
   "metadata": {},
   "outputs": [],
   "source": [
    "print(docs[2])"
   ]
  },
  {
   "cell_type": "code",
   "execution_count": 7,
   "metadata": {},
   "outputs": [],
   "source": [
    "rank_retriever.from_documents(docs)"
   ]
  },
  {
   "cell_type": "code",
   "execution_count": 15,
   "metadata": {},
   "outputs": [],
   "source": [
    "error = \"\"\"\n",
    "2025-05-12 17:28:23.490 Uncaught app execution\n",
    "Traceback (most recent call last):\n",
    "  File \"/home/saurav/Documents/Personal/AIML/codefabric_v2/outputs/leetcode-agent-any/.venv/lib/python3.12/site-packages/streamlit/runtime/scriptrunner/exec_code.py\", line 121, in exec_func_with_error_handling\n",
    "    result = func()\n",
    "             ^^^^^^\n",
    "  File \"/home/saurav/Documents/Personal/AIML/codefabric_v2/outputs/leetcode-agent-any/.venv/lib/python3.12/site-packages/streamlit/runtime/scriptrunner/script_runner.py\", line 648, in code_to_exec\n",
    "    exec(code, module.__dict__)\n",
    "  File \"/home/saurav/Documents/Personal/AIML/codefabric_v2/outputs/leetcode-agent-any/src/app.py\", line 4, in <module>\n",
    "    from src.utils.env_loader import load_env\n",
    "ModuleNotFoundError: No module named 'src'\n",
    "\"\"\""
   ]
  },
  {
   "cell_type": "code",
   "execution_count": 16,
   "metadata": {},
   "outputs": [],
   "source": [
    "ranked_docs = rank_retriever.query_and_rerank(error,top_k=10)"
   ]
  },
  {
   "cell_type": "code",
   "execution_count": null,
   "metadata": {},
   "outputs": [],
   "source": [
    "for r in ranked_docs:\n",
    "    print(r.document)\n",
    "    print(r.rank)\n",
    "    print(r.score)\n",
    "    print(\"\\n\")"
   ]
  },
  {
   "cell_type": "code",
   "execution_count": 19,
   "metadata": {},
   "outputs": [],
   "source": [
    "# Run Instructions"
   ]
  },
  {
   "cell_type": "code",
   "execution_count": 18,
   "metadata": {},
   "outputs": [],
   "source": [
    "# Give schema + Error - Node 1 : Will ask for the files it wants\n",
    "# Node 2 Retrieve the files and run the code\n",
    "# fetch those files to it. simple.\n",
    "# Fix -> Patch -> Edit, Delete, Move, Create -> Apply Patch -> Repeat"
   ]
  },
  {
   "cell_type": "code",
   "execution_count": null,
   "metadata": {},
   "outputs": [],
   "source": []
  }
 ],
 "metadata": {
  "kernelspec": {
   "display_name": ".venv",
   "language": "python",
   "name": "python3"
  },
  "language_info": {
   "codemirror_mode": {
    "name": "ipython",
    "version": 3
   },
   "file_extension": ".py",
   "mimetype": "text/x-python",
   "name": "python",
   "nbconvert_exporter": "python",
   "pygments_lexer": "ipython3",
   "version": "3.12.3"
  }
 },
 "nbformat": 4,
 "nbformat_minor": 2
}
